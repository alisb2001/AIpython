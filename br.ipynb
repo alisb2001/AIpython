{
  "nbformat": 4,
  "nbformat_minor": 0,
  "metadata": {
    "colab": {
      "provenance": [],
      "gpuType": "T4",
      "authorship_tag": "ABX9TyM6LqrDv6hHewW5vUZnA/Xv",
      "include_colab_link": true
    },
    "kernelspec": {
      "name": "python3",
      "display_name": "Python 3"
    },
    "language_info": {
      "name": "python"
    },
    "accelerator": "GPU"
  },
  "cells": [
    {
      "cell_type": "markdown",
      "metadata": {
        "id": "view-in-github",
        "colab_type": "text"
      },
      "source": [
        "<a href=\"https://colab.research.google.com/github/alisb2001/AIpython/blob/main/br.ipynb\" target=\"_parent\"><img src=\"https://colab.research.google.com/assets/colab-badge.svg\" alt=\"Open In Colab\"/></a>"
      ]
    },
    {
      "cell_type": "code",
      "execution_count": null,
      "metadata": {
        "id": "_AZhm53Xq7iv"
      },
      "outputs": [],
      "source": [
        "from zipfile import ZipFile\n",
        "file_name=\"archive.zip\"\n",
        "\n",
        "with ZipFile(file_name, 'r') as zip:\n",
        "   zip.extractall()\n",
        "   print(\"done\")"
      ]
    },
    {
      "cell_type": "code",
      "source": [
        "pip install keras\n"
      ],
      "metadata": {
        "id": "kHgGHg1j06tu"
      },
      "execution_count": null,
      "outputs": []
    },
    {
      "cell_type": "code",
      "source": [
        "\n",
        "with ZipFile(file_name, 'r') as zip:\n",
        "   zip.extractall()\n",
        "   print(\"done\")"
      ],
      "metadata": {
        "id": "ZcZ-B_S0_MNn"
      },
      "execution_count": null,
      "outputs": []
    },
    {
      "cell_type": "code",
      "source": [
        "!file archive.zip\n"
      ],
      "metadata": {
        "id": "jtyypLJrxhi6"
      },
      "execution_count": null,
      "outputs": []
    },
    {
      "cell_type": "code",
      "source": [
        "pip install flask\n"
      ],
      "metadata": {
        "id": "MSPncvU_pkwP"
      },
      "execution_count": null,
      "outputs": []
    },
    {
      "cell_type": "code",
      "source": [
        "from flask import Flask\n",
        "\n",
        "app = Flask(__name__)"
      ],
      "metadata": {
        "id": "9FCBOzuUpqAY"
      },
      "execution_count": null,
      "outputs": []
    },
    {
      "cell_type": "code",
      "source": [
        "@app.route('/')\n",
        "def hello_world():\n",
        "    return 'Hello, World!'\n",
        "\n",
        "@app.route('/api/upload', methods=['POST'])\n",
        "def upload_image():\n",
        "    return 'Image uploaded and processed'\n",
        "\n"
      ],
      "metadata": {
        "id": "muTELO1qptUL"
      },
      "execution_count": null,
      "outputs": []
    },
    {
      "cell_type": "code",
      "source": [
        "from flask import request\n",
        "\n",
        "@app.route('/api/upload', methods=['POST'])\n",
        "def uploadimage():\n",
        "    if 'file' not in request.files:\n",
        "        return 'No file part'\n",
        "    file = request.files['file']\n",
        "    if file.filename == '':\n",
        "        return 'No selected file'\n",
        "    # Process the file here\n",
        "    return 'Image uploaded and processed'"
      ],
      "metadata": {
        "id": "4LwPfCpMpv4e"
      },
      "execution_count": null,
      "outputs": []
    },
    {
      "cell_type": "code",
      "source": [
        "@app.route('/api/hello', methods=['GET'])\n",
        "def hello():\n",
        "    return 'Hello, World!'\n",
        "\n",
        "@app.route('/api/json', methods=['GET'])\n",
        "def json_response():\n",
        "    data = {'message': 'This is a JSON response'}\n",
        "    return jsonify(data)"
      ],
      "metadata": {
        "id": "9Xd-Z0N7pyKC"
      },
      "execution_count": null,
      "outputs": []
    },
    {
      "cell_type": "code",
      "source": [
        "if __name__ == '__main__':\n",
        "    app.run()"
      ],
      "metadata": {
        "id": "ZAosxay3p0JG"
      },
      "execution_count": null,
      "outputs": []
    },
    {
      "cell_type": "code",
      "source": [
        "!pip install -q keras"
      ],
      "metadata": {
        "id": "gIAjNbgUUrVB"
      },
      "execution_count": null,
      "outputs": []
    },
    {
      "cell_type": "code",
      "source": [
        "import keras"
      ],
      "metadata": {
        "id": "JUllV6ZsX7lC"
      },
      "execution_count": null,
      "outputs": []
    },
    {
      "cell_type": "code",
      "source": [
        "from tensorflow import keras\n",
        "\n",
        "from tensorflow.keras.models import Sequential\n",
        "from tensorflow.keras.layers import Dense, Conv2D, MaxPooling2D, Flatten, Input\n",
        "from tensorflow.keras.preprocessing import image"
      ],
      "metadata": {
        "id": "9ayDKvOFYBjr"
      },
      "execution_count": null,
      "outputs": []
    },
    {
      "cell_type": "code",
      "source": [
        "train_path='/content/people_segmentation/segmentation/train.txt'\n",
        "valid_path='/content/people_segmentation/segmentation/val.txt'"
      ],
      "metadata": {
        "id": "pUCNWISJYFTH"
      },
      "execution_count": null,
      "outputs": []
    },
    {
      "cell_type": "code",
      "source": [
        "with open(train_path, 'r') as file:\n",
        "    train_image_paths = [line.strip() for line in file]\n",
        "\n",
        "with open(valid_path, 'r') as file:\n",
        "    valid_image_paths = [line.strip() for line in file]\n"
      ],
      "metadata": {
        "id": "q0gmAvubYT0E"
      },
      "execution_count": null,
      "outputs": []
    },
    {
      "cell_type": "code",
      "source": [
        "import os\n",
        "import numpy as np\n",
        "import cv2\n",
        "import tensorflow as tf\n",
        "from tensorflow.keras.layers import Conv2D, MaxPooling2D, UpSampling2D, BatchNormalization\n",
        "from tensorflow.keras.models import Sequential\n",
        "from tensorflow.keras.optimizers import Adam\n",
        "from sklearn.model_selection import train_test_split\n",
        "\n",
        "# Define hyperparameters\n",
        "IMAGE_SIZE = (256, 256)\n",
        "BATCH_SIZE = 32\n",
        "EPOCHS = 20\n",
        "LEARNING_RATE = 0.0001\n",
        "BASE_DIR = '/content/people_segmentation'\n",
        "MODEL_SAVE_PATH = 'background_removal_model.h5'\n",
        "\n",
        "# Define the U-Net model architecture (customize as needed)\n",
        "def create_model(input_shape):\n",
        "    model = Sequential()\n",
        "\n",
        "    # Encoder\n",
        "    model.add(Conv2D(64, (3, 3), activation='relu', padding='same', input_shape=input_shape))\n",
        "    model.add(Conv2D(64, (3, 3), activation='relu', padding='same'))\n",
        "    model.add(MaxPooling2D(pool_size=(2, 2)))\n",
        "\n",
        "    # Decoder\n",
        "    model.add(Conv2D(64, (3, 3), activation='relu', padding='same'))\n",
        "    model.add(UpSampling2D((2, 2)))\n",
        "    model.add(Conv2D(1, (3, 3), activation='sigmoid', padding='same'))\n",
        "\n",
        "    return model\n",
        "\n",
        "# Load and preprocess the dataset\n",
        "def load_dataset(base_dir):\n",
        "    # Load images and masks, resize to IMAGE_SIZE, and normalize\n",
        "    # Return X_train, y_train, X_val, y_val\n",
        "\n",
        "    return X_train, y_train, X_val, y_val\n",
        "\n",
        "# Split the dataset into training and validation\n",
        "X_train, y_train, X_val, y_val = load_dataset(BASE_DIR)\n",
        "X_train, X_test, y_train, y_test = train_test_split(X_train, y_train, test_size=0.1, random_state=42)\n",
        "\n",
        "# Create and compile the model\n",
        "model = create_model(input_shape=(IMAGE_SIZE[0], IMAGE_SIZE[1], 3))\n",
        "model.compile(optimizer=Adam(learning_rate=LEARNING_RATE), loss='binary_crossentropy', metrics=['accuracy'])\n",
        "\n",
        "# Train the model\n",
        "history = model.fit(X_train, y_train, batch_size=BATCH_SIZE, epochs=EPOCHS, validation_data=(X_val, y_val))\n",
        "\n",
        "# Evaluate the model on the test set\n",
        "test_loss, test_accuracy = model.evaluate(X_test, y_test)\n",
        "print(f\"Test Loss: {test_loss:.4f}, Test Accuracy: {test_accuracy:.4f}\")\n",
        "\n",
        "\n",
        "model.save(MODEL_SAVE_PATH)\n"
      ],
      "metadata": {
        "id": "MK6en6Se673w"
      },
      "execution_count": null,
      "outputs": []
    },
    {
      "cell_type": "code",
      "source": [
        "\n",
        "from sklearn.metrics import accuracy_score\n",
        "from sklearn.metrics import jaccard_score\n",
        "\n",
        "\n",
        "# Predict masks on the validation dataset\n",
        "y_pred = model.predict(X_val)\n",
        "\n",
        "# Convert predicted masks to binary masks\n",
        "y_pred_binary = (y_pred > 0.5).astype(np.uint8)\n",
        "\n",
        "# Calculate accuracy\n",
        "accuracy = accuracy_score(y_val.flatten(), y_pred_binary.flatten())\n",
        "print(f\"Accuracy: {accuracy:.4f}\")\n",
        "\n",
        "# Calculate Intersection over Union (IoU)\n",
        "iou = jaccard_score(y_val.flatten(), y_pred_binary.flatten())\n",
        "print(f\"IoU: {iou:.4f}\")\n"
      ],
      "metadata": {
        "id": "qzQPxpGQ8XD4"
      },
      "execution_count": null,
      "outputs": []
    },
    {
      "cell_type": "code",
      "source": [
        "import cv2\n",
        "import numpy as np\n",
        "import tensorflow as tf\n",
        "\n",
        "# Load the trained model\n",
        "model = tf.keras.models.load_model('background_removal_model.h5')  # Update with your model path\n",
        "\n",
        "# Function to remove background from an input image\n",
        "def remove_background(input_image_path, output_image_path):\n",
        "    # Load the input image\n",
        "    input_image = cv2.imread(input_image_path)\n",
        "\n",
        "    # Preprocess the input image (resize to match model input size)\n",
        "    input_image = cv2.resize(input_image, (256, 256))  # Update with your model's input size\n",
        "\n",
        "    # Normalize the input image (if needed)\n",
        "    # input_image = input_image / 255.0  # Uncomment if your model expects pixel values in [0, 1] range\n",
        "\n",
        "    # Make a prediction using the model\n",
        "    mask = model.predict(np.expand_dims(input_image, axis=0))[0]\n",
        "\n",
        "    # Convert the mask to a binary mask (you can adjust the threshold as needed)\n",
        "    mask_binary = (mask > 0.5).astype(np.uint8)\n",
        "\n",
        "    # Apply the mask to the input image to remove the background\n",
        "    output_image = input_image * mask_binary[:, :, np.newaxis]\n",
        "\n",
        "    # Save the output image\n",
        "    cv2.imwrite(output_image_path, output_image)\n",
        "\n",
        "if __name__ == \"__main__\":\n",
        "    input_image_path = 'input_image.jpg'\n",
        "    output_image_path = 'output_image.jpg'\n",
        "\n",
        "    remove_background(input_image_path, output_image_path)\n",
        "\n",
        "    print(\"Background removed and saved as\", output_image_path)\n"
      ],
      "metadata": {
        "id": "RXVd7iWu9QWb"
      },
      "execution_count": null,
      "outputs": []
    }
  ]
}